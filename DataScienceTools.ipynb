{
 "cells": [
  {
   "cell_type": "markdown",
   "id": "2f1f7e5d-90db-4a7f-8543-f2542c73b814",
   "metadata": {},
   "source": [
    "# Data Science Tools"
   ]
  },
  {
   "cell_type": "markdown",
   "id": "45ab87ae-63c7-4855-bb7f-d23986681c5c",
   "metadata": {},
   "source": [
    "In this notebook, Data Science Tools and Ecosystem are summarized."
   ]
  },
  {
   "cell_type": "markdown",
   "id": "917a68bc-3db8-4f6e-be1a-783375c9a9ee",
   "metadata": {},
   "source": [
    "Some of the popular languages that Data Scientists use are:\n",
    "1. Python\n",
    "2. R\n",
    "3. C++\n",
    "4. SQL\n",
    "5. Matlab\n",
    "6. Java"
   ]
  },
  {
   "cell_type": "markdown",
   "id": "b9eb44c6-ebbe-4458-bbed-3fb2509ec70e",
   "metadata": {},
   "source": [
    "Some of the popular libraries that Data Scientists use are:\n",
    "1. TenserFlow\n",
    "2. Numpy\n",
    "3. Sckit-learn"
   ]
  },
  {
   "cell_type": "markdown",
   "id": "9c7ba0e5-36fa-4fd0-a04a-5a08e3af59c0",
   "metadata": {},
   "source": [
    "|Data Science Tools|\n",
    "|---|\n",
    "|SAS|\n",
    "|Apache Hadoop|\n",
    "|TensorFlow|"
   ]
  },
  {
   "cell_type": "markdown",
   "id": "b6b40b3c-6ec9-446b-9092-a01c771ced63",
   "metadata": {},
   "source": [
    "### Below are few examples of arithmetic expressions in Python"
   ]
  },
  {
   "cell_type": "code",
   "execution_count": 1,
   "id": "836d77c4-334f-418a-8d2d-af8e6da7c39f",
   "metadata": {
    "scrolled": true
   },
   "outputs": [
    {
     "data": {
      "text/plain": [
       "17"
      ]
     },
     "execution_count": 1,
     "metadata": {},
     "output_type": "execute_result"
    }
   ],
   "source": [
    "#This a simple arithmetic expression to mutiply then add integers\n",
    "5+(4*3)"
   ]
  },
  {
   "cell_type": "code",
   "execution_count": 2,
   "id": "3418b1af-2830-4bd0-b369-04faa799617e",
   "metadata": {},
   "outputs": [
    {
     "data": {
      "text/plain": [
       "3.3333333333333335"
      ]
     },
     "execution_count": 2,
     "metadata": {},
     "output_type": "execute_result"
    }
   ],
   "source": [
    "# This will convert 200 minutes to hours by diving by 60\n",
    "200/60"
   ]
  },
  {
   "cell_type": "markdown",
   "id": "2e7fe9db-9f0a-4b62-bc34-257f726110d4",
   "metadata": {},
   "source": [
    "__Objectives:__\n",
    "* List popular languages for Data Science\n",
    "* List popular languages for Data Science\n",
    "* List popular languages for Data Science\n",
    "* List popular languages for Data Science"
   ]
  },
  {
   "cell_type": "markdown",
   "id": "2e743062-4284-4f6c-9463-46ee5c3da6f7",
   "metadata": {},
   "source": [
    "## Author\n",
    "hfkarabacakli"
   ]
  }
 ],
 "metadata": {
  "kernelspec": {
   "display_name": "Python 3 (ipykernel)",
   "language": "python",
   "name": "python3"
  },
  "language_info": {
   "codemirror_mode": {
    "name": "ipython",
    "version": 3
   },
   "file_extension": ".py",
   "mimetype": "text/x-python",
   "name": "python",
   "nbconvert_exporter": "python",
   "pygments_lexer": "ipython3",
   "version": "3.11.4"
  }
 },
 "nbformat": 4,
 "nbformat_minor": 5
}
